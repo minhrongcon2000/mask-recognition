{
 "cells": [
  {
   "cell_type": "code",
   "execution_count": 10,
   "metadata": {
    "execution": {
     "iopub.execute_input": "2022-03-17T15:43:48.378285Z",
     "iopub.status.busy": "2022-03-17T15:43:48.376824Z",
     "iopub.status.idle": "2022-03-17T15:43:54.72641Z",
     "shell.execute_reply": "2022-03-17T15:43:54.72532Z",
     "shell.execute_reply.started": "2022-03-17T15:43:48.378245Z"
    },
    "id": "fXLgr4pLDaCZ"
   },
   "outputs": [],
   "source": [
    "from tensorflow.keras.preprocessing.image import ImageDataGenerator\n",
    "from tensorflow.keras.applications.mobilenet import MobileNet\n",
    "from tensorflow.keras.layers import Dense, Flatten, Dropout\n",
    "from tensorflow.keras import Sequential\n",
    "from tensorflow.keras.optimizers import RMSprop\n",
    "import tensorflow as tf\n",
    "import os\n",
    "import wandb\n",
    "from wandb.keras import WandbCallback\n",
    "from tensorflow.keras.metrics import Precision, Recall\n",
    "import ssl\n",
    "\n",
    "ssl._create_default_https_context = ssl._create_unverified_context"
   ]
  },
  {
   "cell_type": "code",
   "execution_count": 11,
   "metadata": {
    "execution": {
     "iopub.execute_input": "2022-03-17T15:43:54.732791Z",
     "iopub.status.busy": "2022-03-17T15:43:54.732248Z",
     "iopub.status.idle": "2022-03-17T15:43:54.73735Z",
     "shell.execute_reply": "2022-03-17T15:43:54.736667Z",
     "shell.execute_reply.started": "2022-03-17T15:43:54.732753Z"
    },
    "id": "o5SZY7WGDaCZ"
   },
   "outputs": [],
   "source": [
    "os.environ[\"WANDB_API_KEY\"] = \"183c1a6a36cbdf0405f5baacb72690845ecc8573\""
   ]
  },
  {
   "cell_type": "code",
   "execution_count": 12,
   "metadata": {
    "colab": {
     "base_uri": "https://localhost:8080/"
    },
    "execution": {
     "iopub.execute_input": "2022-03-17T15:43:54.739257Z",
     "iopub.status.busy": "2022-03-17T15:43:54.738712Z",
     "iopub.status.idle": "2022-03-17T15:43:59.387307Z",
     "shell.execute_reply": "2022-03-17T15:43:59.384609Z",
     "shell.execute_reply.started": "2022-03-17T15:43:54.739221Z"
    },
    "id": "KoAirgfHDaCa",
    "outputId": "2d285d48-8b8e-4120-89c4-b533af86cec9"
   },
   "outputs": [
    {
     "name": "stdout",
     "output_type": "stream",
     "text": [
      "Found 10085 images belonging to 2 classes.\n",
      "Found 10086 images belonging to 2 classes.\n",
      "Found 47068 images belonging to 2 classes.\n"
     ]
    }
   ],
   "source": [
    "train_data_dir = \"dataset/mask_dataset_with_train_test/train\"\n",
    "val_data_dir = \"dataset/mask_dataset_with_train_test/val\"\n",
    "test_data_dir = \"dataset/mask_dataset_with_train_test/test\"\n",
    "\n",
    "train_data_gen = ImageDataGenerator( \n",
    "    rescale = 1.0/255.,\n",
    "    rotation_range=40,\n",
    "    width_shift_range=0.2,\n",
    "    height_shift_range=0.2,\n",
    "    shear_range=0.2,\n",
    "    zoom_range=0.2,\n",
    "    horizontal_flip=True,\n",
    "    fill_mode='nearest',\n",
    "    brightness_range=(0.5, 1.5),\n",
    "    validation_split=0.2\n",
    ")\n",
    "val_data_gen = ImageDataGenerator(\n",
    "    rescale = 1.0/255.\n",
    ")\n",
    "test_data_gen = ImageDataGenerator(\n",
    "    rescale = 1.0/255.\n",
    ")\n",
    "\n",
    "train_data_generator = train_data_gen.flow_from_directory(\n",
    "    train_data_dir,\n",
    "    batch_size=32,\n",
    "    target_size=(224, 224)\n",
    ")\n",
    "val_data_generator = val_data_gen.flow_from_directory(\n",
    "    val_data_dir,\n",
    "    batch_size=32,\n",
    "    target_size=(224, 224)\n",
    ")\n",
    "test_data_generator = test_data_gen.flow_from_directory(\n",
    "    test_data_dir,\n",
    "    batch_size=32,\n",
    "    target_size=(224, 224)\n",
    ")"
   ]
  },
  {
   "cell_type": "code",
   "execution_count": 13,
   "metadata": {
    "colab": {
     "base_uri": "https://localhost:8080/"
    },
    "execution": {
     "iopub.execute_input": "2022-03-17T15:43:59.389091Z",
     "iopub.status.busy": "2022-03-17T15:43:59.388726Z",
     "iopub.status.idle": "2022-03-17T15:44:02.761382Z",
     "shell.execute_reply": "2022-03-17T15:44:02.76062Z",
     "shell.execute_reply.started": "2022-03-17T15:43:59.38905Z"
    },
    "id": "Y_xq6YJGDaCa",
    "outputId": "bbd0bbcb-d5c9-4cd0-9005-6eed20f7cb5f"
   },
   "outputs": [
    {
     "name": "stdout",
     "output_type": "stream",
     "text": [
      "Downloading data from https://storage.googleapis.com/tensorflow/keras-applications/mobilenet/mobilenet_1_0_224_tf_no_top.h5\n",
      "17227776/17225924 [==============================] - 3s 0us/step\n",
      "17235968/17225924 [==============================] - 3s 0us/step\n",
      "Model: \"mobilenet_1.00_224\"\n",
      "_________________________________________________________________\n",
      " Layer (type)                Output Shape              Param #   \n",
      "=================================================================\n",
      " input_3 (InputLayer)        [(None, 224, 224, 3)]     0         \n",
      "                                                                 \n",
      " conv1 (Conv2D)              (None, 112, 112, 32)      864       \n",
      "                                                                 \n",
      " conv1_bn (BatchNormalizatio  (None, 112, 112, 32)     128       \n",
      " n)                                                              \n",
      "                                                                 \n",
      " conv1_relu (ReLU)           (None, 112, 112, 32)      0         \n",
      "                                                                 \n",
      " conv_dw_1 (DepthwiseConv2D)  (None, 112, 112, 32)     288       \n",
      "                                                                 \n",
      " conv_dw_1_bn (BatchNormaliz  (None, 112, 112, 32)     128       \n",
      " ation)                                                          \n",
      "                                                                 \n",
      " conv_dw_1_relu (ReLU)       (None, 112, 112, 32)      0         \n",
      "                                                                 \n",
      " conv_pw_1 (Conv2D)          (None, 112, 112, 64)      2048      \n",
      "                                                                 \n",
      " conv_pw_1_bn (BatchNormaliz  (None, 112, 112, 64)     256       \n",
      " ation)                                                          \n",
      "                                                                 \n",
      " conv_pw_1_relu (ReLU)       (None, 112, 112, 64)      0         \n",
      "                                                                 \n",
      " conv_pad_2 (ZeroPadding2D)  (None, 113, 113, 64)      0         \n",
      "                                                                 \n",
      " conv_dw_2 (DepthwiseConv2D)  (None, 56, 56, 64)       576       \n",
      "                                                                 \n",
      " conv_dw_2_bn (BatchNormaliz  (None, 56, 56, 64)       256       \n",
      " ation)                                                          \n",
      "                                                                 \n",
      " conv_dw_2_relu (ReLU)       (None, 56, 56, 64)        0         \n",
      "                                                                 \n",
      " conv_pw_2 (Conv2D)          (None, 56, 56, 128)       8192      \n",
      "                                                                 \n",
      " conv_pw_2_bn (BatchNormaliz  (None, 56, 56, 128)      512       \n",
      " ation)                                                          \n",
      "                                                                 \n",
      " conv_pw_2_relu (ReLU)       (None, 56, 56, 128)       0         \n",
      "                                                                 \n",
      " conv_dw_3 (DepthwiseConv2D)  (None, 56, 56, 128)      1152      \n",
      "                                                                 \n",
      " conv_dw_3_bn (BatchNormaliz  (None, 56, 56, 128)      512       \n",
      " ation)                                                          \n",
      "                                                                 \n",
      " conv_dw_3_relu (ReLU)       (None, 56, 56, 128)       0         \n",
      "                                                                 \n",
      " conv_pw_3 (Conv2D)          (None, 56, 56, 128)       16384     \n",
      "                                                                 \n",
      " conv_pw_3_bn (BatchNormaliz  (None, 56, 56, 128)      512       \n",
      " ation)                                                          \n",
      "                                                                 \n",
      " conv_pw_3_relu (ReLU)       (None, 56, 56, 128)       0         \n",
      "                                                                 \n",
      " conv_pad_4 (ZeroPadding2D)  (None, 57, 57, 128)       0         \n",
      "                                                                 \n",
      " conv_dw_4 (DepthwiseConv2D)  (None, 28, 28, 128)      1152      \n",
      "                                                                 \n",
      " conv_dw_4_bn (BatchNormaliz  (None, 28, 28, 128)      512       \n",
      " ation)                                                          \n",
      "                                                                 \n",
      " conv_dw_4_relu (ReLU)       (None, 28, 28, 128)       0         \n",
      "                                                                 \n",
      " conv_pw_4 (Conv2D)          (None, 28, 28, 256)       32768     \n",
      "                                                                 \n",
      " conv_pw_4_bn (BatchNormaliz  (None, 28, 28, 256)      1024      \n",
      " ation)                                                          \n",
      "                                                                 \n",
      " conv_pw_4_relu (ReLU)       (None, 28, 28, 256)       0         \n",
      "                                                                 \n",
      " conv_dw_5 (DepthwiseConv2D)  (None, 28, 28, 256)      2304      \n",
      "                                                                 \n",
      " conv_dw_5_bn (BatchNormaliz  (None, 28, 28, 256)      1024      \n",
      " ation)                                                          \n",
      "                                                                 \n",
      " conv_dw_5_relu (ReLU)       (None, 28, 28, 256)       0         \n",
      "                                                                 \n",
      " conv_pw_5 (Conv2D)          (None, 28, 28, 256)       65536     \n",
      "                                                                 \n",
      " conv_pw_5_bn (BatchNormaliz  (None, 28, 28, 256)      1024      \n",
      " ation)                                                          \n",
      "                                                                 \n",
      " conv_pw_5_relu (ReLU)       (None, 28, 28, 256)       0         \n",
      "                                                                 \n",
      " conv_pad_6 (ZeroPadding2D)  (None, 29, 29, 256)       0         \n",
      "                                                                 \n",
      " conv_dw_6 (DepthwiseConv2D)  (None, 14, 14, 256)      2304      \n",
      "                                                                 \n",
      " conv_dw_6_bn (BatchNormaliz  (None, 14, 14, 256)      1024      \n",
      " ation)                                                          \n",
      "                                                                 \n",
      " conv_dw_6_relu (ReLU)       (None, 14, 14, 256)       0         \n",
      "                                                                 \n",
      " conv_pw_6 (Conv2D)          (None, 14, 14, 512)       131072    \n",
      "                                                                 \n",
      " conv_pw_6_bn (BatchNormaliz  (None, 14, 14, 512)      2048      \n",
      " ation)                                                          \n",
      "                                                                 \n",
      " conv_pw_6_relu (ReLU)       (None, 14, 14, 512)       0         \n",
      "                                                                 \n",
      " conv_dw_7 (DepthwiseConv2D)  (None, 14, 14, 512)      4608      \n",
      "                                                                 \n",
      " conv_dw_7_bn (BatchNormaliz  (None, 14, 14, 512)      2048      \n",
      " ation)                                                          \n",
      "                                                                 \n",
      " conv_dw_7_relu (ReLU)       (None, 14, 14, 512)       0         \n",
      "                                                                 \n",
      " conv_pw_7 (Conv2D)          (None, 14, 14, 512)       262144    \n",
      "                                                                 \n",
      " conv_pw_7_bn (BatchNormaliz  (None, 14, 14, 512)      2048      \n",
      " ation)                                                          \n",
      "                                                                 \n",
      " conv_pw_7_relu (ReLU)       (None, 14, 14, 512)       0         \n",
      "                                                                 \n",
      " conv_dw_8 (DepthwiseConv2D)  (None, 14, 14, 512)      4608      \n",
      "                                                                 \n",
      " conv_dw_8_bn (BatchNormaliz  (None, 14, 14, 512)      2048      \n",
      " ation)                                                          \n"
     ]
    },
    {
     "name": "stdout",
     "output_type": "stream",
     "text": [
      "                                                                 \n",
      " conv_dw_8_relu (ReLU)       (None, 14, 14, 512)       0         \n",
      "                                                                 \n",
      " conv_pw_8 (Conv2D)          (None, 14, 14, 512)       262144    \n",
      "                                                                 \n",
      " conv_pw_8_bn (BatchNormaliz  (None, 14, 14, 512)      2048      \n",
      " ation)                                                          \n",
      "                                                                 \n",
      " conv_pw_8_relu (ReLU)       (None, 14, 14, 512)       0         \n",
      "                                                                 \n",
      " conv_dw_9 (DepthwiseConv2D)  (None, 14, 14, 512)      4608      \n",
      "                                                                 \n",
      " conv_dw_9_bn (BatchNormaliz  (None, 14, 14, 512)      2048      \n",
      " ation)                                                          \n",
      "                                                                 \n",
      " conv_dw_9_relu (ReLU)       (None, 14, 14, 512)       0         \n",
      "                                                                 \n",
      " conv_pw_9 (Conv2D)          (None, 14, 14, 512)       262144    \n",
      "                                                                 \n",
      " conv_pw_9_bn (BatchNormaliz  (None, 14, 14, 512)      2048      \n",
      " ation)                                                          \n",
      "                                                                 \n",
      " conv_pw_9_relu (ReLU)       (None, 14, 14, 512)       0         \n",
      "                                                                 \n",
      " conv_dw_10 (DepthwiseConv2D  (None, 14, 14, 512)      4608      \n",
      " )                                                               \n",
      "                                                                 \n",
      " conv_dw_10_bn (BatchNormali  (None, 14, 14, 512)      2048      \n",
      " zation)                                                         \n",
      "                                                                 \n",
      " conv_dw_10_relu (ReLU)      (None, 14, 14, 512)       0         \n",
      "                                                                 \n",
      " conv_pw_10 (Conv2D)         (None, 14, 14, 512)       262144    \n",
      "                                                                 \n",
      " conv_pw_10_bn (BatchNormali  (None, 14, 14, 512)      2048      \n",
      " zation)                                                         \n",
      "                                                                 \n",
      " conv_pw_10_relu (ReLU)      (None, 14, 14, 512)       0         \n",
      "                                                                 \n",
      " conv_dw_11 (DepthwiseConv2D  (None, 14, 14, 512)      4608      \n",
      " )                                                               \n",
      "                                                                 \n",
      " conv_dw_11_bn (BatchNormali  (None, 14, 14, 512)      2048      \n",
      " zation)                                                         \n",
      "                                                                 \n",
      " conv_dw_11_relu (ReLU)      (None, 14, 14, 512)       0         \n",
      "                                                                 \n",
      " conv_pw_11 (Conv2D)         (None, 14, 14, 512)       262144    \n",
      "                                                                 \n",
      " conv_pw_11_bn (BatchNormali  (None, 14, 14, 512)      2048      \n",
      " zation)                                                         \n",
      "                                                                 \n",
      " conv_pw_11_relu (ReLU)      (None, 14, 14, 512)       0         \n",
      "                                                                 \n",
      " conv_pad_12 (ZeroPadding2D)  (None, 15, 15, 512)      0         \n",
      "                                                                 \n",
      " conv_dw_12 (DepthwiseConv2D  (None, 7, 7, 512)        4608      \n",
      " )                                                               \n",
      "                                                                 \n",
      " conv_dw_12_bn (BatchNormali  (None, 7, 7, 512)        2048      \n",
      " zation)                                                         \n",
      "                                                                 \n",
      " conv_dw_12_relu (ReLU)      (None, 7, 7, 512)         0         \n",
      "                                                                 \n",
      " conv_pw_12 (Conv2D)         (None, 7, 7, 1024)        524288    \n",
      "                                                                 \n",
      " conv_pw_12_bn (BatchNormali  (None, 7, 7, 1024)       4096      \n",
      " zation)                                                         \n",
      "                                                                 \n",
      " conv_pw_12_relu (ReLU)      (None, 7, 7, 1024)        0         \n",
      "                                                                 \n",
      " conv_dw_13 (DepthwiseConv2D  (None, 7, 7, 1024)       9216      \n",
      " )                                                               \n",
      "                                                                 \n",
      " conv_dw_13_bn (BatchNormali  (None, 7, 7, 1024)       4096      \n",
      " zation)                                                         \n",
      "                                                                 \n",
      " conv_dw_13_relu (ReLU)      (None, 7, 7, 1024)        0         \n",
      "                                                                 \n",
      " conv_pw_13 (Conv2D)         (None, 7, 7, 1024)        1048576   \n",
      "                                                                 \n",
      " conv_pw_13_bn (BatchNormali  (None, 7, 7, 1024)       4096      \n",
      " zation)                                                         \n",
      "                                                                 \n",
      " conv_pw_13_relu (ReLU)      (None, 7, 7, 1024)        0         \n",
      "                                                                 \n",
      "=================================================================\n",
      "Total params: 3,228,864\n",
      "Trainable params: 0\n",
      "Non-trainable params: 3,228,864\n",
      "_________________________________________________________________\n"
     ]
    }
   ],
   "source": [
    "base_model = MobileNet(include_top=False, input_shape=(224, 224, 3))\n",
    "base_model.trainable = False\n",
    "base_model.summary()"
   ]
  },
  {
   "cell_type": "code",
   "execution_count": 14,
   "metadata": {
    "execution": {
     "iopub.execute_input": "2022-03-17T15:44:02.762976Z",
     "iopub.status.busy": "2022-03-17T15:44:02.762751Z",
     "iopub.status.idle": "2022-03-17T15:44:02.984036Z",
     "shell.execute_reply": "2022-03-17T15:44:02.983257Z",
     "shell.execute_reply.started": "2022-03-17T15:44:02.762946Z"
    },
    "id": "WTjKrnFTDaCb"
   },
   "outputs": [],
   "source": [
    "model = Sequential()\n",
    "model.add(base_model)\n",
    "model.add(Flatten())\n",
    "model.add(Dense(512, activation=\"relu\"))\n",
    "model.add(Dropout(0.2))\n",
    "model.add(Dense(256, activation=\"relu\"))\n",
    "model.add(Dropout(0.2))\n",
    "model.add(Dense(2, activation=\"softmax\"))"
   ]
  },
  {
   "cell_type": "code",
   "execution_count": 15,
   "metadata": {
    "execution": {
     "iopub.execute_input": "2022-03-17T15:44:02.985897Z",
     "iopub.status.busy": "2022-03-17T15:44:02.98558Z",
     "iopub.status.idle": "2022-03-17T15:44:03.007061Z",
     "shell.execute_reply": "2022-03-17T15:44:03.006246Z",
     "shell.execute_reply.started": "2022-03-17T15:44:02.985861Z"
    },
    "id": "QQ_KO0VqDaCc"
   },
   "outputs": [],
   "source": [
    "model.compile(\n",
    "    optimizer=RMSprop(learning_rate=0.001),\n",
    "    loss=\"categorical_crossentropy\",\n",
    "    metrics=['accuracy', Precision(), Recall()]\n",
    ")"
   ]
  },
  {
   "cell_type": "code",
   "execution_count": null,
   "metadata": {
    "colab": {
     "base_uri": "https://localhost:8080/",
     "height": 498,
     "referenced_widgets": [
      "9080456ce6b5412183e7f09c87946848",
      "4b6d6cefe8734d7aa969eb05e5bbb16c",
      "6b3845e4b8c54107b9571beeb6bf84f5",
      "fa4e3907add04f9dba25fcb653908660",
      "e2aee602e24b4196b5f44481a09aae4c",
      "0229ebd86c1d4b4e9c46289c1bc5affb",
      "986d36d3e498430aac6229d2d37407f9",
      "5eeaf0ee3e7b41e6bfc89caf3a148672"
     ]
    },
    "execution": {
     "iopub.execute_input": "2022-03-17T15:44:03.008747Z",
     "iopub.status.busy": "2022-03-17T15:44:03.00846Z",
     "iopub.status.idle": "2022-03-17T15:44:03.020508Z",
     "shell.execute_reply": "2022-03-17T15:44:03.019Z",
     "shell.execute_reply.started": "2022-03-17T15:44:03.008709Z"
    },
    "id": "zuDAsijGDaCc",
    "outputId": "bc2cb12f-65b9-417d-99e7-7380ef7c72ed"
   },
   "outputs": [
    {
     "name": "stderr",
     "output_type": "stream",
     "text": [
      "\u001b[34m\u001b[1mwandb\u001b[0m: Currently logged in as: \u001b[33mminhrongcon2000\u001b[0m (use `wandb login --relogin` to force relogin)\n"
     ]
    },
    {
     "data": {
      "text/html": [
       "Tracking run with wandb version 0.12.14"
      ],
      "text/plain": [
       "<IPython.core.display.HTML object>"
      ]
     },
     "metadata": {},
     "output_type": "display_data"
    },
    {
     "data": {
      "text/html": [
       "Run data is saved locally in <code>/Users/admin/Desktop/demo/mask-recognition/wandb/run-20220410_111511-23mmesqv</code>"
      ],
      "text/plain": [
       "<IPython.core.display.HTML object>"
      ]
     },
     "metadata": {},
     "output_type": "display_data"
    },
    {
     "data": {
      "text/html": [
       "Syncing run <strong><a href=\"https://wandb.ai/minhrongcon2000/masked_face_net/runs/23mmesqv\" target=\"_blank\">mobilenet_base</a></strong> to <a href=\"https://wandb.ai/minhrongcon2000/masked_face_net\" target=\"_blank\">Weights & Biases</a> (<a href=\"https://wandb.me/run\" target=\"_blank\">docs</a>)<br/>"
      ],
      "text/plain": [
       "<IPython.core.display.HTML object>"
      ]
     },
     "metadata": {},
     "output_type": "display_data"
    },
    {
     "name": "stdout",
     "output_type": "stream",
     "text": [
      "Epoch 1/50\n",
      "316/316 [==============================] - 1486s 5s/step - loss: 3.1697 - accuracy: 0.8739 - precision: 0.8739 - recall: 0.8739 - val_loss: 0.1628 - val_accuracy: 0.9495 - val_precision: 0.9495 - val_recall: 0.9495 - _timestamp: 1649565604.0000 - _runtime: 1493.0000\n",
      "Epoch 2/50\n",
      "316/316 [==============================] - 1702s 5s/step - loss: 0.2242 - accuracy: 0.9455 - precision: 0.9455 - recall: 0.9455 - val_loss: 0.0691 - val_accuracy: 0.9799 - val_precision: 0.9799 - val_recall: 0.9799 - _timestamp: 1649567306.0000 - _runtime: 3195.0000\n",
      "Epoch 3/50\n",
      "316/316 [==============================] - 1817s 6s/step - loss: 0.1564 - accuracy: 0.9600 - precision: 0.9600 - recall: 0.9600 - val_loss: 0.0503 - val_accuracy: 0.9834 - val_precision: 0.9834 - val_recall: 0.9834 - _timestamp: 1649569123.0000 - _runtime: 5012.0000\n",
      "Epoch 4/50\n",
      "316/316 [==============================] - 1723s 5s/step - loss: 0.1208 - accuracy: 0.9641 - precision: 0.9641 - recall: 0.9641 - val_loss: 0.0740 - val_accuracy: 0.9722 - val_precision: 0.9722 - val_recall: 0.9722 - _timestamp: 1649570846.0000 - _runtime: 6735.0000\n",
      "Epoch 5/50\n",
      "316/316 [==============================] - 1792s 6s/step - loss: 0.0984 - accuracy: 0.9731 - precision: 0.9731 - recall: 0.9731 - val_loss: 0.1043 - val_accuracy: 0.9656 - val_precision: 0.9656 - val_recall: 0.9656 - _timestamp: 1649572639.0000 - _runtime: 8528.0000\n",
      "Epoch 6/50\n",
      "316/316 [==============================] - 1787s 6s/step - loss: 0.1038 - accuracy: 0.9716 - precision: 0.9716 - recall: 0.9716 - val_loss: 0.0324 - val_accuracy: 0.9895 - val_precision: 0.9895 - val_recall: 0.9895 - _timestamp: 1649574425.0000 - _runtime: 10314.0000\n",
      "Epoch 7/50\n",
      "316/316 [==============================] - 2015s 6s/step - loss: 0.0906 - accuracy: 0.9754 - precision: 0.9754 - recall: 0.9754 - val_loss: 0.0444 - val_accuracy: 0.9889 - val_precision: 0.9889 - val_recall: 0.9889 - _timestamp: 1649576440.0000 - _runtime: 12329.0000\n",
      "Epoch 8/50\n",
      "316/316 [==============================] - 1958s 6s/step - loss: 0.0905 - accuracy: 0.9770 - precision: 0.9770 - recall: 0.9770 - val_loss: 0.0265 - val_accuracy: 0.9929 - val_precision: 0.9929 - val_recall: 0.9929 - _timestamp: 1649578398.0000 - _runtime: 14287.0000\n",
      "Epoch 9/50\n",
      "316/316 [==============================] - 1997s 6s/step - loss: 0.0808 - accuracy: 0.9780 - precision: 0.9780 - recall: 0.9780 - val_loss: 0.0454 - val_accuracy: 0.9819 - val_precision: 0.9819 - val_recall: 0.9819 - _timestamp: 1649580396.0000 - _runtime: 16285.0000\n",
      "Epoch 10/50\n",
      "316/316 [==============================] - 2175s 7s/step - loss: 0.0766 - accuracy: 0.9807 - precision: 0.9807 - recall: 0.9807 - val_loss: 0.0277 - val_accuracy: 0.9919 - val_precision: 0.9919 - val_recall: 0.9919 - _timestamp: 1649582571.0000 - _runtime: 18460.0000\n",
      "Epoch 11/50\n",
      "316/316 [==============================] - 1979s 6s/step - loss: 0.0727 - accuracy: 0.9789 - precision: 0.9789 - recall: 0.9789 - val_loss: 0.0239 - val_accuracy: 0.9927 - val_precision: 0.9927 - val_recall: 0.9927 - _timestamp: 1649584549.0000 - _runtime: 20438.0000\n",
      "Epoch 12/50\n",
      "316/316 [==============================] - ETA: 0s - loss: 0.0742 - accuracy: 0.9814 - precision: 0.9814 - recall: 0.9814"
     ]
    }
   ],
   "source": [
    "wandb.init(project=\"masked_face_net\", name=\"mobilenet_base\")\n",
    "wandb.config = {\n",
    "    \"learning_rate\": 0.0001,\n",
    "    \"batch_size\": 32,\n",
    "    \"epochs\": 50\n",
    "}\n",
    "if not os.path.exists(\"tmp/checkpoints\"):\n",
    "    os.makedirs(\"tmp/checkpoints\")\n",
    "\n",
    "model.fit(\n",
    "    train_data_generator,\n",
    "    validation_data=val_data_generator,\n",
    "    epochs=50,\n",
    "    callbacks=[\n",
    "        WandbCallback()\n",
    "    ]\n",
    ")"
   ]
  },
  {
   "cell_type": "code",
   "execution_count": null,
   "metadata": {
    "id": "oae9znV4DaCd"
   },
   "outputs": [],
   "source": [
    "model.evaluate(test_data_generator)"
   ]
  }
 ],
 "metadata": {
  "accelerator": "GPU",
  "colab": {
   "machine_shape": "hm",
   "name": "masked_face_net.ipynb",
   "provenance": []
  },
  "kernelspec": {
   "display_name": "Python 3 (ipykernel)",
   "language": "python",
   "name": "python3"
  },
  "language_info": {
   "codemirror_mode": {
    "name": "ipython",
    "version": 3
   },
   "file_extension": ".py",
   "mimetype": "text/x-python",
   "name": "python",
   "nbconvert_exporter": "python",
   "pygments_lexer": "ipython3",
   "version": "3.8.8"
  },
  "widgets": {
   "application/vnd.jupyter.widget-state+json": {
    "0229ebd86c1d4b4e9c46289c1bc5affb": {
     "model_module": "@jupyter-widgets/controls",
     "model_module_version": "1.5.0",
     "model_name": "DescriptionStyleModel",
     "state": {
      "_model_module": "@jupyter-widgets/controls",
      "_model_module_version": "1.5.0",
      "_model_name": "DescriptionStyleModel",
      "_view_count": null,
      "_view_module": "@jupyter-widgets/base",
      "_view_module_version": "1.2.0",
      "_view_name": "StyleView",
      "description_width": ""
     }
    },
    "4b6d6cefe8734d7aa969eb05e5bbb16c": {
     "model_module": "@jupyter-widgets/controls",
     "model_module_version": "1.5.0",
     "model_name": "LabelModel",
     "state": {
      "_dom_classes": [],
      "_model_module": "@jupyter-widgets/controls",
      "_model_module_version": "1.5.0",
      "_model_name": "LabelModel",
      "_view_count": null,
      "_view_module": "@jupyter-widgets/controls",
      "_view_module_version": "1.5.0",
      "_view_name": "LabelView",
      "description": "",
      "description_tooltip": null,
      "layout": "IPY_MODEL_e2aee602e24b4196b5f44481a09aae4c",
      "placeholder": "​",
      "style": "IPY_MODEL_0229ebd86c1d4b4e9c46289c1bc5affb",
      "value": "0.008 MB of 0.008 MB uploaded (0.000 MB deduped)\r"
     }
    },
    "5eeaf0ee3e7b41e6bfc89caf3a148672": {
     "model_module": "@jupyter-widgets/controls",
     "model_module_version": "1.5.0",
     "model_name": "ProgressStyleModel",
     "state": {
      "_model_module": "@jupyter-widgets/controls",
      "_model_module_version": "1.5.0",
      "_model_name": "ProgressStyleModel",
      "_view_count": null,
      "_view_module": "@jupyter-widgets/base",
      "_view_module_version": "1.2.0",
      "_view_name": "StyleView",
      "bar_color": null,
      "description_width": ""
     }
    },
    "6b3845e4b8c54107b9571beeb6bf84f5": {
     "model_module": "@jupyter-widgets/controls",
     "model_module_version": "1.5.0",
     "model_name": "FloatProgressModel",
     "state": {
      "_dom_classes": [],
      "_model_module": "@jupyter-widgets/controls",
      "_model_module_version": "1.5.0",
      "_model_name": "FloatProgressModel",
      "_view_count": null,
      "_view_module": "@jupyter-widgets/controls",
      "_view_module_version": "1.5.0",
      "_view_name": "ProgressView",
      "bar_style": "",
      "description": "",
      "description_tooltip": null,
      "layout": "IPY_MODEL_986d36d3e498430aac6229d2d37407f9",
      "max": 1,
      "min": 0,
      "orientation": "horizontal",
      "style": "IPY_MODEL_5eeaf0ee3e7b41e6bfc89caf3a148672",
      "value": 1
     }
    },
    "9080456ce6b5412183e7f09c87946848": {
     "model_module": "@jupyter-widgets/controls",
     "model_module_version": "1.5.0",
     "model_name": "VBoxModel",
     "state": {
      "_dom_classes": [],
      "_model_module": "@jupyter-widgets/controls",
      "_model_module_version": "1.5.0",
      "_model_name": "VBoxModel",
      "_view_count": null,
      "_view_module": "@jupyter-widgets/controls",
      "_view_module_version": "1.5.0",
      "_view_name": "VBoxView",
      "box_style": "",
      "children": [
       "IPY_MODEL_4b6d6cefe8734d7aa969eb05e5bbb16c",
       "IPY_MODEL_6b3845e4b8c54107b9571beeb6bf84f5"
      ],
      "layout": "IPY_MODEL_fa4e3907add04f9dba25fcb653908660"
     }
    },
    "986d36d3e498430aac6229d2d37407f9": {
     "model_module": "@jupyter-widgets/base",
     "model_module_version": "1.2.0",
     "model_name": "LayoutModel",
     "state": {
      "_model_module": "@jupyter-widgets/base",
      "_model_module_version": "1.2.0",
      "_model_name": "LayoutModel",
      "_view_count": null,
      "_view_module": "@jupyter-widgets/base",
      "_view_module_version": "1.2.0",
      "_view_name": "LayoutView",
      "align_content": null,
      "align_items": null,
      "align_self": null,
      "border": null,
      "bottom": null,
      "display": null,
      "flex": null,
      "flex_flow": null,
      "grid_area": null,
      "grid_auto_columns": null,
      "grid_auto_flow": null,
      "grid_auto_rows": null,
      "grid_column": null,
      "grid_gap": null,
      "grid_row": null,
      "grid_template_areas": null,
      "grid_template_columns": null,
      "grid_template_rows": null,
      "height": null,
      "justify_content": null,
      "justify_items": null,
      "left": null,
      "margin": null,
      "max_height": null,
      "max_width": null,
      "min_height": null,
      "min_width": null,
      "object_fit": null,
      "object_position": null,
      "order": null,
      "overflow": null,
      "overflow_x": null,
      "overflow_y": null,
      "padding": null,
      "right": null,
      "top": null,
      "visibility": null,
      "width": null
     }
    },
    "e2aee602e24b4196b5f44481a09aae4c": {
     "model_module": "@jupyter-widgets/base",
     "model_module_version": "1.2.0",
     "model_name": "LayoutModel",
     "state": {
      "_model_module": "@jupyter-widgets/base",
      "_model_module_version": "1.2.0",
      "_model_name": "LayoutModel",
      "_view_count": null,
      "_view_module": "@jupyter-widgets/base",
      "_view_module_version": "1.2.0",
      "_view_name": "LayoutView",
      "align_content": null,
      "align_items": null,
      "align_self": null,
      "border": null,
      "bottom": null,
      "display": null,
      "flex": null,
      "flex_flow": null,
      "grid_area": null,
      "grid_auto_columns": null,
      "grid_auto_flow": null,
      "grid_auto_rows": null,
      "grid_column": null,
      "grid_gap": null,
      "grid_row": null,
      "grid_template_areas": null,
      "grid_template_columns": null,
      "grid_template_rows": null,
      "height": null,
      "justify_content": null,
      "justify_items": null,
      "left": null,
      "margin": null,
      "max_height": null,
      "max_width": null,
      "min_height": null,
      "min_width": null,
      "object_fit": null,
      "object_position": null,
      "order": null,
      "overflow": null,
      "overflow_x": null,
      "overflow_y": null,
      "padding": null,
      "right": null,
      "top": null,
      "visibility": null,
      "width": null
     }
    },
    "fa4e3907add04f9dba25fcb653908660": {
     "model_module": "@jupyter-widgets/base",
     "model_module_version": "1.2.0",
     "model_name": "LayoutModel",
     "state": {
      "_model_module": "@jupyter-widgets/base",
      "_model_module_version": "1.2.0",
      "_model_name": "LayoutModel",
      "_view_count": null,
      "_view_module": "@jupyter-widgets/base",
      "_view_module_version": "1.2.0",
      "_view_name": "LayoutView",
      "align_content": null,
      "align_items": null,
      "align_self": null,
      "border": null,
      "bottom": null,
      "display": null,
      "flex": null,
      "flex_flow": null,
      "grid_area": null,
      "grid_auto_columns": null,
      "grid_auto_flow": null,
      "grid_auto_rows": null,
      "grid_column": null,
      "grid_gap": null,
      "grid_row": null,
      "grid_template_areas": null,
      "grid_template_columns": null,
      "grid_template_rows": null,
      "height": null,
      "justify_content": null,
      "justify_items": null,
      "left": null,
      "margin": null,
      "max_height": null,
      "max_width": null,
      "min_height": null,
      "min_width": null,
      "object_fit": null,
      "object_position": null,
      "order": null,
      "overflow": null,
      "overflow_x": null,
      "overflow_y": null,
      "padding": null,
      "right": null,
      "top": null,
      "visibility": null,
      "width": null
     }
    }
   }
  }
 },
 "nbformat": 4,
 "nbformat_minor": 1
}
